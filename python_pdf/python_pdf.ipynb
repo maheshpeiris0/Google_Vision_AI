{
 "cells": [
  {
   "cell_type": "code",
   "execution_count": 1,
   "metadata": {},
   "outputs": [],
   "source": [
    "import pandas as pd \n",
    "import numpy as np\n",
    "from tika import parser"
   ]
  },
  {
   "cell_type": "markdown",
   "metadata": {},
   "source": [
    "#### tika library"
   ]
  },
  {
   "cell_type": "code",
   "execution_count": 4,
   "metadata": {},
   "outputs": [],
   "source": [
    "#!pip install tika"
   ]
  },
  {
   "cell_type": "code",
   "execution_count": 2,
   "metadata": {},
   "outputs": [
    {
     "name": "stderr",
     "output_type": "stream",
     "text": [
      "2023-12-17 16:30:10,179 [MainThread  ] [INFO ]  Retrieving http://search.maven.org/remotecontent?filepath=org/apache/tika/tika-server-standard/2.6.0/tika-server-standard-2.6.0.jar to /tmp/tika-server.jar.\n",
      "2023-12-17 16:30:10,696 [MainThread  ] [INFO ]  Retrieving http://search.maven.org/remotecontent?filepath=org/apache/tika/tika-server-standard/2.6.0/tika-server-standard-2.6.0.jar.md5 to /tmp/tika-server.jar.md5.\n",
      "2023-12-17 16:30:10,858 [MainThread  ] [WARNI]  Failed to see startup log message; retrying...\n",
      "2023-12-17 16:30:15,865 [MainThread  ] [WARNI]  Failed to see startup log message; retrying...\n"
     ]
    },
    {
     "name": "stdout",
     "output_type": "stream",
     "text": [
      "\n",
      "\n",
      "\n",
      "\n",
      "\n",
      "\n",
      "\n",
      "\n",
      "\n",
      "\n",
      "\n",
      "\n",
      "\n",
      "\n",
      "\n",
      "\n",
      "\n",
      "\n",
      "\n",
      "\n",
      "\n",
      "\n",
      "\n",
      "\n",
      "\n",
      "\n",
      "\n",
      "\n",
      "\n",
      "\n",
      "\n",
      "\n",
      "\n",
      "\n",
      "\n",
      "\n",
      "\n",
      "\n",
      "\n",
      "This is a test PDF file\n",
      "\n",
      "\n",
      "Adobe Acrobat PDF Files\n",
      "\n",
      "Adobe® Portable Document Format (PDF) is a universal file format that preserves all\n",
      "of the fonts, formatting, colours and graphics of any source document, regardless of\n",
      "the application and platform used to create it.\n",
      "\n",
      "Adobe PDF is an ideal format for electronic document distribution as it overcomes the\n",
      "problems commonly encountered with electronic file sharing.\n",
      "\n",
      "•  Anyone, anywhere can open a PDF file. All you need is the free Adobe Acrobat\n",
      "Reader. Recipients of other file formats sometimes can't open files because they\n",
      "don't have the applications used to create the documents.\n",
      "\n",
      "•  PDF files always print correctly on any printing device.\n",
      "\n",
      "•  PDF files always display exactly as created, regardless of fonts, software, and\n",
      "operating systems. Fonts, and graphics are not lost due to platform, software, and\n",
      "version incompatibilities.\n",
      "\n",
      "•  The free Acrobat Reader is easy to download and can be freely distributed by\n",
      "anyone.\n",
      "\n",
      "•  Compact PDF files are smaller than their source files and download a\n",
      "page at a time for fast display on the Web.\n",
      "\n",
      "\n",
      "\n"
     ]
    }
   ],
   "source": [
    "raw = parser.from_file('/workspaces/Google_Vision_AI/PDF/text-pdf-sample.pdf')\n",
    "print(raw['content'])"
   ]
  },
  {
   "cell_type": "code",
   "execution_count": 3,
   "metadata": {},
   "outputs": [
    {
     "name": "stdout",
     "output_type": "stream",
     "text": [
      "\n",
      "\n",
      "\n",
      "\n",
      "\n",
      "\n",
      "\n",
      "\n",
      "\n",
      "\n",
      "\n",
      "\n",
      "\n",
      "\n",
      "\n",
      "\n",
      "\n",
      "\n",
      "\n",
      "\n",
      "\n",
      "\n",
      "\n",
      "\n",
      "\n",
      "\n",
      "\n",
      "\n",
      "\n",
      "\n",
      "\n",
      "\n",
      "\n",
      "\n",
      "\n",
      "\n",
      "\n",
      "PDF Invoice Example\n",
      "\n",
      "\n",
      "Invoice\n",
      "\n",
      "Payment is due within 30 days from date of invoice. Late payment is subject to fees of 5% per month.\n",
      "Thanks for choosing DEMO - Sliced Invoices | admin@slicedinvoices.com\n",
      "Page 1/1\n",
      "\n",
      "From:\n",
      "DEMO - Sliced Invoices\n",
      "Suite 5A-1204\n",
      "123 Somewhere Street\n",
      "Your City AZ 12345\n",
      "admin@slicedinvoices.com\n",
      "\n",
      "Invoice Number INV-3337\n",
      "Order Number 12345\n",
      "Invoice Date January 25, 2016\n",
      "Due Date January 31, 2016\n",
      "Total Due $93.50\n",
      "\n",
      "To:\n",
      "Test Business\n",
      "123 Somewhere St\n",
      "Melbourne, VIC 3000\n",
      "test@test.com\n",
      "\n",
      "Hrs/Qty Service Rate/Price Adjust Sub Total\n",
      "\n",
      "1.00 Web Design\n",
      "This is a sample description... $85.00 0.00% $85.00\n",
      "\n",
      "Sub Total $85.00\n",
      "Tax $8.50\n",
      "\n",
      "Total $93.50\n",
      "\n",
      "ANZ Bank\n",
      "ACC # 1234 1234\n",
      "BSB # 4321 432 Paid\n",
      "\n",
      "http://slicedinvoices.com/demo\n",
      "http://slicedinvoices.com/demo\n",
      "http://slicedinvoices.com/demo\n",
      "mailto:admin@slicedinvoices.com\n",
      "\n",
      "\n"
     ]
    }
   ],
   "source": [
    "raw = parser.from_file('/workspaces/Google_Vision_AI/PDF/invoice-sample.pdf')\n",
    "print(raw['content'])"
   ]
  },
  {
   "cell_type": "markdown",
   "metadata": {},
   "source": [
    "#### pdfquery"
   ]
  },
  {
   "cell_type": "code",
   "execution_count": 5,
   "metadata": {},
   "outputs": [],
   "source": [
    "#!pip install pdfquery"
   ]
  },
  {
   "cell_type": "code",
   "execution_count": 6,
   "metadata": {},
   "outputs": [],
   "source": [
    "from pdfquery import PDFQuery"
   ]
  },
  {
   "cell_type": "code",
   "execution_count": 13,
   "metadata": {},
   "outputs": [],
   "source": [
    "pdf = PDFQuery('/workspaces/Google_Vision_AI/PDF/text-pdf-sample.pdf')\n",
    "pdf.load()"
   ]
  },
  {
   "cell_type": "code",
   "execution_count": 14,
   "metadata": {},
   "outputs": [
    {
     "name": "stdout",
     "output_type": "stream",
     "text": [
      "['', 'Adobe® Portable Document Format (PDF) is a universal file format that preserves all ', 'of the fonts, formatting, colours and graphics of any source document, regardless of ', 'the application and platform used to create it. ', 'Adobe PDF is an ideal format for electronic document distribution as it overcomes the ', 'problems commonly encountered with electronic file sharing. ', '• Anyone, anywhere can open a PDF file. All you need is the free Adobe Acrobat ', \"Reader. Recipients of other file formats sometimes can't open files because they \", \"don't have the applications used to create the documents. \", '', '• PDF files always display exactly as created, regardless of fonts, software, and ', 'operating systems. Fonts, and graphics are not lost due to platform, software, and ', 'version incompatibilities. ', '', '', '', '']\n"
     ]
    }
   ],
   "source": [
    "text_elements = pdf.pq('LTTextLineHorizontal')\n",
    "\n",
    "\n",
    "text = [t.text for t in text_elements]\n",
    "\n",
    "# Print the extracted text\n",
    "print(text)"
   ]
  },
  {
   "cell_type": "code",
   "execution_count": 27,
   "metadata": {},
   "outputs": [
    {
     "name": "stdout",
     "output_type": "stream",
     "text": [
      "Adobe Acrobat PDF Files Adobe Acrobat PDF Files Adobe® Portable Document Format (PDF) is a universal file format that preserves all\n",
      "of the fonts, formatting, colours and graphics of any source document, regardless of\n",
      "the application and platform used to create it. Adobe® Portable Document Format (PDF) is a universal file format that preserves all of the fonts, formatting, colours and graphics of any source document, regardless of the application and platform used to create it. Adobe PDF is an ideal format for electronic document distribution as it overcomes the\n",
      "problems commonly encountered with electronic file sharing. Adobe PDF is an ideal format for electronic document distribution as it overcomes the problems commonly encountered with electronic file sharing. • Anyone, anywhere can open a PDF file. All you need is the free Adobe Acrobat\n",
      "Reader. Recipients of other file formats sometimes can't open files because they\n",
      "don't have the applications used to create the documents. • Anyone, anywhere can open a PDF file. All you need is the free Adobe Acrobat Reader. Recipients of other file formats sometimes can't open files because they don't have the applications used to create the documents. • PDF files always print correctly on any printing device. • PDF files always print correctly on any printing device. • PDF files always display exactly as created, regardless of fonts, software, and\n",
      "operating systems. Fonts, and graphics are not lost due to platform, software, and\n",
      "version incompatibilities. • PDF files always display exactly as created, regardless of fonts, software, and operating systems. Fonts, and graphics are not lost due to platform, software, and version incompatibilities. • The free Acrobat Reader is easy to download and can be freely distributed by • The free Acrobat Reader is easy to download and can be freely distributed by anyone. anyone. • Compact PDF files are smaller than their source files and download a • Compact PDF files are smaller than their source files and download a page at a time for fast display on the Web. page at a time for fast display on the Web.\n"
     ]
    }
   ],
   "source": [
    "pdf = PDFQuery('/workspaces/Google_Vision_AI/PDF/text-pdf-sample.pdf')\n",
    "pdf.load()\n",
    "query = pdf.pq(':in_bbox(\"0,0,612,792\")') # Assumes US Letter-sized page (8.5x11 inches)\n",
    "text = query.text()\n",
    "print(text)"
   ]
  },
  {
   "cell_type": "code",
   "execution_count": 24,
   "metadata": {},
   "outputs": [
    {
     "name": "stdout",
     "output_type": "stream",
     "text": [
      "['', '', 'Payment is due within 30 days from date of invoice. Late payment is subject to fees of 5% per month. ', 'Thanks for choosing DEMO - Sliced Invoices | admin@slicedinvoices.com ', 'Page 1/1 ', 'From: ', 'DEMO - Sliced Invoices ', 'Suite 5A-1204 ', '123 Somewhere Street ', 'Your City AZ 12345 ', 'admin@slicedinvoices.com ', 'To: ', 'Test Business ', '123 Somewhere St ', 'Melbourne, VIC 3000 ', 'test@test.com ', '', 'Web Design ', 'This is a sample description... ', 'ANZ Bank ', 'ACC # 1234 1234 ', 'BSB # 4321 432 ', '', '', '', '', '', '', '', '', '', '', '', '', '', '', '', '', '', '', '', '', '', '', '', '']\n"
     ]
    }
   ],
   "source": [
    "pdf = PDFQuery('/workspaces/Google_Vision_AI/PDF/invoice-sample.pdf')\n",
    "pdf.load()\n",
    "text_elements = pdf.pq('LTTextLineHorizontal')\n",
    "text = [t.text for t in text_elements]\n",
    "print(text)"
   ]
  },
  {
   "cell_type": "code",
   "execution_count": 26,
   "metadata": {},
   "outputs": [
    {
     "name": "stdout",
     "output_type": "stream",
     "text": [
      "Invoice Invoice P aid P aid        Payment is due within 30 days from date of invoice. Late payment is subject to fees of 5% per month.\n",
      "Thanks for choosing DEMO - Sliced Invoices | admin@slicedinvoices.com\n",
      "Page 1/1 Payment is due within 30 days from date of invoice. Late payment is subject to fees of 5% per month. Thanks for choosing DEMO - Sliced Invoices | admin@slicedinvoices.com Page 1/1   From:\n",
      "DEMO - Sliced Invoices\n",
      "Suite 5A-1204\n",
      "123 Somewhere Street\n",
      "Your City AZ 12345\n",
      "admin@slicedinvoices.com\n",
      "To:\n",
      "Test Business\n",
      "123 Somewhere St\n",
      "Melbourne, VIC 3000\n",
      "test@test.com\n",
      "1.00\n",
      "Web Design\n",
      "This is a sample description...\n",
      "ANZ Bank\n",
      "ACC # 1234 1234\n",
      "BSB # 4321 432\n",
      "Invoice Number\n",
      "INV-3337\n",
      "Order Number\n",
      "12345\n",
      "Invoice Date\n",
      "Due Date\n",
      "January 25, 2016\n",
      "January 31, 2016\n",
      "$85.00\n",
      "0.00%\n",
      "$85.00\n",
      "Sub Total\n",
      "Tax\n",
      "$85.00\n",
      "$8.50\n",
      "Total Due\n",
      "$93.50\n",
      "Hrs/Qty\n",
      "Service\n",
      "Rate/Price\n",
      "Adjust\n",
      "Sub Total\n",
      "Total\n",
      "$93.50 From:\n",
      "DEMO - Sliced Invoices\n",
      "Suite 5A-1204\n",
      "123 Somewhere Street\n",
      "Your City AZ 12345\n",
      "admin@slicedinvoices.com From: DEMO - Sliced Invoices Suite 5A-1204 123 Somewhere Street Your City AZ 12345 admin@slicedinvoices.com  To:\n",
      "Test Business\n",
      "123 Somewhere St\n",
      "Melbourne, VIC 3000\n",
      "test@test.com To: Test Business 123 Somewhere St Melbourne, VIC 3000 test@test.com 1.00 1.00 Web Design\n",
      "This is a sample description... Web Design This is a sample description... ANZ Bank\n",
      "ACC # 1234 1234\n",
      "BSB # 4321 432 ANZ Bank ACC # 1234 1234 BSB # 4321 432 Invoice Number Invoice Number INV-3337 INV-3337 Order Number Order Number 12345 12345 Invoice Date Invoice Date Due Date Due Date January 25, 2016 January 25, 2016 January 31, 2016 January 31, 2016 $85.00 $85.00 0.00% 0.00% $85.00 $85.00 Sub Total Sub Total Tax Tax $85.00 $85.00 $8.50 $8.50 Total Due Total Due Total Due       $93.50 $93.50 $93.50                                   Hrs/Qty Hrs/Qty Hrs/Qty      Service Service Service   Rate/Price Rate/Price Rate/Price Adjust Adjust Adjust       Sub Total Sub Total Sub Total                   Total Total Total      $93.50 $93.50 $93.50                \n"
     ]
    }
   ],
   "source": [
    "pdf = PDFQuery('/workspaces/Google_Vision_AI/PDF/invoice-sample.pdf')\n",
    "pdf.load()\n",
    "query = pdf.pq(':in_bbox(\"0,0,612,792\")') # Assumes US Letter-sized page (8.5x11 inches)\n",
    "text = query.text()\n",
    "print(text)"
   ]
  },
  {
   "cell_type": "code",
   "execution_count": null,
   "metadata": {},
   "outputs": [],
   "source": []
  }
 ],
 "metadata": {
  "kernelspec": {
   "display_name": "Python 3",
   "language": "python",
   "name": "python3"
  },
  "language_info": {
   "codemirror_mode": {
    "name": "ipython",
    "version": 3
   },
   "file_extension": ".py",
   "mimetype": "text/x-python",
   "name": "python",
   "nbconvert_exporter": "python",
   "pygments_lexer": "ipython3",
   "version": "3.10.13"
  }
 },
 "nbformat": 4,
 "nbformat_minor": 2
}
